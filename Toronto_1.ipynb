{
  "cells": [
    {
      "cell_type": "markdown",
      "metadata": {
        "id": "view-in-github",
        "colab_type": "text"
      },
      "source": [
        "<a href=\"https://colab.research.google.com/github/MemphisOmar/Agrupaci-n-y-Segmentaci-n-de-Vecindarios-en-la-Ciudad-de-Toronto-Canad-/blob/main/Toronto_1.ipynb\" target=\"_parent\"><img src=\"https://colab.research.google.com/assets/colab-badge.svg\" alt=\"Open In Colab\"/></a>"
      ]
    },
    {
      "cell_type": "markdown",
      "metadata": {
        "id": "VnaDreeYW0Se"
      },
      "source": [
        "# Proyecto 3 Parte1"
      ]
    },
    {
      "cell_type": "markdown",
      "metadata": {
        "id": "A_6ziT48W0Si"
      },
      "source": [
        "IMPORTAMOS LIBRERÍAS"
      ]
    },
    {
      "cell_type": "code",
      "source": [
        "pip install geocoder"
      ],
      "metadata": {
        "colab": {
          "base_uri": "https://localhost:8080/"
        },
        "id": "iJ634hPXZf6Y",
        "outputId": "a9395098-84d0-4a0f-b248-0d9d048438c0"
      },
      "execution_count": 5,
      "outputs": [
        {
          "output_type": "stream",
          "name": "stdout",
          "text": [
            "Looking in indexes: https://pypi.org/simple, https://us-python.pkg.dev/colab-wheels/public/simple/\n",
            "Requirement already satisfied: geocoder in /usr/local/lib/python3.8/dist-packages (1.38.1)\n",
            "Requirement already satisfied: six in /usr/local/lib/python3.8/dist-packages (from geocoder) (1.15.0)\n",
            "Requirement already satisfied: requests in /usr/local/lib/python3.8/dist-packages (from geocoder) (2.25.1)\n",
            "Requirement already satisfied: future in /usr/local/lib/python3.8/dist-packages (from geocoder) (0.16.0)\n",
            "Requirement already satisfied: ratelim in /usr/local/lib/python3.8/dist-packages (from geocoder) (0.1.6)\n",
            "Requirement already satisfied: click in /usr/local/lib/python3.8/dist-packages (from geocoder) (7.1.2)\n",
            "Requirement already satisfied: decorator in /usr/local/lib/python3.8/dist-packages (from ratelim->geocoder) (4.4.2)\n",
            "Requirement already satisfied: urllib3<1.27,>=1.21.1 in /usr/local/lib/python3.8/dist-packages (from requests->geocoder) (1.24.3)\n",
            "Requirement already satisfied: idna<3,>=2.5 in /usr/local/lib/python3.8/dist-packages (from requests->geocoder) (2.10)\n",
            "Requirement already satisfied: certifi>=2017.4.17 in /usr/local/lib/python3.8/dist-packages (from requests->geocoder) (2022.12.7)\n",
            "Requirement already satisfied: chardet<5,>=3.0.2 in /usr/local/lib/python3.8/dist-packages (from requests->geocoder) (4.0.0)\n"
          ]
        }
      ]
    },
    {
      "cell_type": "code",
      "execution_count": 6,
      "metadata": {
        "id": "sFnyl-3eW0Sj"
      },
      "outputs": [],
      "source": [
        "import numpy as np \n",
        "import pandas as pd\n",
        "from bs4 import BeautifulSoup \n",
        "import requests \n",
        "import geocoder # import geocoder\n",
        "from geopy.geocoders import Nominatim\n",
        "import folium \n",
        "import matplotlib.cm as cm\n",
        "import matplotlib.colors as colors\n",
        "from sklearn.cluster import KMeans"
      ]
    },
    {
      "cell_type": "markdown",
      "metadata": {
        "id": "Ghj9IKvlW0Sl"
      },
      "source": [
        "# DESCARGARMOS Y SUBIMOS LOS DATOS\n"
      ]
    },
    {
      "cell_type": "code",
      "execution_count": 7,
      "metadata": {
        "id": "-MIoCVTBW0Sl"
      },
      "outputs": [],
      "source": [
        "url='https://en.wikipedia.org/wiki/List_of_postal_codes_of_Canada:_M'\n",
        "content = BeautifulSoup(requests.get(url).content, 'lxml')"
      ]
    },
    {
      "cell_type": "code",
      "execution_count": 10,
      "metadata": {
        "colab": {
          "base_uri": "https://localhost:8080/",
          "height": 626
        },
        "id": "2Bn5qcHEW0Sm",
        "outputId": "8b10bfae-4c50-4d29-d501-ff612a09acbd"
      },
      "outputs": [
        {
          "output_type": "execute_result",
          "data": {
            "text/plain": [
              "                                          Postal Code  \\\n",
              "0                                     M1ANot assigned   \n",
              "1                     M1BScarborough(Malvern / Rouge)   \n",
              "2   M1CScarborough(Rouge Hill / Port Union / Highl...   \n",
              "3   M1EScarborough(Guildwood / Morningside / West ...   \n",
              "4                              M1GScarborough(Woburn)   \n",
              "5                           M1HScarborough(Cedarbrae)   \n",
              "6                 M1JScarborough(Scarborough Village)   \n",
              "7   M1KScarborough(Kennedy Park / Ionview / East B...   \n",
              "8   M1LScarborough(Golden Mile / Clairlea / Oakridge)   \n",
              "9   M1MScarborough(Cliffside / Cliffcrest / Scarbo...   \n",
              "10       M1NScarborough(Birch Cliff / Cliffside West)   \n",
              "11  M1PScarborough(Dorset Park / Wexford Heights /...   \n",
              "\n",
              "                                          Borough  \\\n",
              "0                                 M2ANot assigned   \n",
              "1                                 M2BNot assigned   \n",
              "2                                 M2CNot assigned   \n",
              "3                                 M2ENot assigned   \n",
              "4                                 M2GNot assigned   \n",
              "5                M2HNorth York(Hillcrest Village)   \n",
              "6   M2JNorth York(Fairview / Henry Farm / Oriole)   \n",
              "7                  M2KNorth York(Bayview Village)   \n",
              "8        M2LNorth York(York Mills / Silver Hills)   \n",
              "9         M2MNorth York(Willowdale / Newtonbrook)   \n",
              "10                 M2NNorth York(Willowdale)South   \n",
              "11                 M2PNorth York(York Mills West)   \n",
              "\n",
              "                                         Neighborhood  \n",
              "0                            M3ANorth York(Parkwoods)  \n",
              "1                       M3BNorth York(Don Mills)North  \n",
              "2      M3CNorth York(Don Mills)South(Flemingdon Park)  \n",
              "3                                     M3ENot assigned  \n",
              "4                                     M3GNot assigned  \n",
              "5   M3HNorth York(Bathurst Manor / Wilson Heights ...  \n",
              "6     M3JNorth York(Northwood Park / York University)  \n",
              "7         M3KNorth York(Downsview)East  (CFB Toronto)  \n",
              "8                        M3LNorth York(Downsview)West  \n",
              "9                     M3MNorth York(Downsview)Central  \n",
              "10                  M3NNorth York(Downsview)Northwest  \n",
              "11                                    M3PNot assigned  "
            ],
            "text/html": [
              "\n",
              "  <div id=\"df-60ebb8c5-5bd6-4244-a9b1-a829cd61fea2\">\n",
              "    <div class=\"colab-df-container\">\n",
              "      <div>\n",
              "<style scoped>\n",
              "    .dataframe tbody tr th:only-of-type {\n",
              "        vertical-align: middle;\n",
              "    }\n",
              "\n",
              "    .dataframe tbody tr th {\n",
              "        vertical-align: top;\n",
              "    }\n",
              "\n",
              "    .dataframe thead th {\n",
              "        text-align: right;\n",
              "    }\n",
              "</style>\n",
              "<table border=\"1\" class=\"dataframe\">\n",
              "  <thead>\n",
              "    <tr style=\"text-align: right;\">\n",
              "      <th></th>\n",
              "      <th>Postal Code</th>\n",
              "      <th>Borough</th>\n",
              "      <th>Neighborhood</th>\n",
              "    </tr>\n",
              "  </thead>\n",
              "  <tbody>\n",
              "    <tr>\n",
              "      <th>0</th>\n",
              "      <td>M1ANot assigned</td>\n",
              "      <td>M2ANot assigned</td>\n",
              "      <td>M3ANorth York(Parkwoods)</td>\n",
              "    </tr>\n",
              "    <tr>\n",
              "      <th>1</th>\n",
              "      <td>M1BScarborough(Malvern / Rouge)</td>\n",
              "      <td>M2BNot assigned</td>\n",
              "      <td>M3BNorth York(Don Mills)North</td>\n",
              "    </tr>\n",
              "    <tr>\n",
              "      <th>2</th>\n",
              "      <td>M1CScarborough(Rouge Hill / Port Union / Highl...</td>\n",
              "      <td>M2CNot assigned</td>\n",
              "      <td>M3CNorth York(Don Mills)South(Flemingdon Park)</td>\n",
              "    </tr>\n",
              "    <tr>\n",
              "      <th>3</th>\n",
              "      <td>M1EScarborough(Guildwood / Morningside / West ...</td>\n",
              "      <td>M2ENot assigned</td>\n",
              "      <td>M3ENot assigned</td>\n",
              "    </tr>\n",
              "    <tr>\n",
              "      <th>4</th>\n",
              "      <td>M1GScarborough(Woburn)</td>\n",
              "      <td>M2GNot assigned</td>\n",
              "      <td>M3GNot assigned</td>\n",
              "    </tr>\n",
              "    <tr>\n",
              "      <th>5</th>\n",
              "      <td>M1HScarborough(Cedarbrae)</td>\n",
              "      <td>M2HNorth York(Hillcrest Village)</td>\n",
              "      <td>M3HNorth York(Bathurst Manor / Wilson Heights ...</td>\n",
              "    </tr>\n",
              "    <tr>\n",
              "      <th>6</th>\n",
              "      <td>M1JScarborough(Scarborough Village)</td>\n",
              "      <td>M2JNorth York(Fairview / Henry Farm / Oriole)</td>\n",
              "      <td>M3JNorth York(Northwood Park / York University)</td>\n",
              "    </tr>\n",
              "    <tr>\n",
              "      <th>7</th>\n",
              "      <td>M1KScarborough(Kennedy Park / Ionview / East B...</td>\n",
              "      <td>M2KNorth York(Bayview Village)</td>\n",
              "      <td>M3KNorth York(Downsview)East  (CFB Toronto)</td>\n",
              "    </tr>\n",
              "    <tr>\n",
              "      <th>8</th>\n",
              "      <td>M1LScarborough(Golden Mile / Clairlea / Oakridge)</td>\n",
              "      <td>M2LNorth York(York Mills / Silver Hills)</td>\n",
              "      <td>M3LNorth York(Downsview)West</td>\n",
              "    </tr>\n",
              "    <tr>\n",
              "      <th>9</th>\n",
              "      <td>M1MScarborough(Cliffside / Cliffcrest / Scarbo...</td>\n",
              "      <td>M2MNorth York(Willowdale / Newtonbrook)</td>\n",
              "      <td>M3MNorth York(Downsview)Central</td>\n",
              "    </tr>\n",
              "    <tr>\n",
              "      <th>10</th>\n",
              "      <td>M1NScarborough(Birch Cliff / Cliffside West)</td>\n",
              "      <td>M2NNorth York(Willowdale)South</td>\n",
              "      <td>M3NNorth York(Downsview)Northwest</td>\n",
              "    </tr>\n",
              "    <tr>\n",
              "      <th>11</th>\n",
              "      <td>M1PScarborough(Dorset Park / Wexford Heights /...</td>\n",
              "      <td>M2PNorth York(York Mills West)</td>\n",
              "      <td>M3PNot assigned</td>\n",
              "    </tr>\n",
              "  </tbody>\n",
              "</table>\n",
              "</div>\n",
              "      <button class=\"colab-df-convert\" onclick=\"convertToInteractive('df-60ebb8c5-5bd6-4244-a9b1-a829cd61fea2')\"\n",
              "              title=\"Convert this dataframe to an interactive table.\"\n",
              "              style=\"display:none;\">\n",
              "        \n",
              "  <svg xmlns=\"http://www.w3.org/2000/svg\" height=\"24px\"viewBox=\"0 0 24 24\"\n",
              "       width=\"24px\">\n",
              "    <path d=\"M0 0h24v24H0V0z\" fill=\"none\"/>\n",
              "    <path d=\"M18.56 5.44l.94 2.06.94-2.06 2.06-.94-2.06-.94-.94-2.06-.94 2.06-2.06.94zm-11 1L8.5 8.5l.94-2.06 2.06-.94-2.06-.94L8.5 2.5l-.94 2.06-2.06.94zm10 10l.94 2.06.94-2.06 2.06-.94-2.06-.94-.94-2.06-.94 2.06-2.06.94z\"/><path d=\"M17.41 7.96l-1.37-1.37c-.4-.4-.92-.59-1.43-.59-.52 0-1.04.2-1.43.59L10.3 9.45l-7.72 7.72c-.78.78-.78 2.05 0 2.83L4 21.41c.39.39.9.59 1.41.59.51 0 1.02-.2 1.41-.59l7.78-7.78 2.81-2.81c.8-.78.8-2.07 0-2.86zM5.41 20L4 18.59l7.72-7.72 1.47 1.35L5.41 20z\"/>\n",
              "  </svg>\n",
              "      </button>\n",
              "      \n",
              "  <style>\n",
              "    .colab-df-container {\n",
              "      display:flex;\n",
              "      flex-wrap:wrap;\n",
              "      gap: 12px;\n",
              "    }\n",
              "\n",
              "    .colab-df-convert {\n",
              "      background-color: #E8F0FE;\n",
              "      border: none;\n",
              "      border-radius: 50%;\n",
              "      cursor: pointer;\n",
              "      display: none;\n",
              "      fill: #1967D2;\n",
              "      height: 32px;\n",
              "      padding: 0 0 0 0;\n",
              "      width: 32px;\n",
              "    }\n",
              "\n",
              "    .colab-df-convert:hover {\n",
              "      background-color: #E2EBFA;\n",
              "      box-shadow: 0px 1px 2px rgba(60, 64, 67, 0.3), 0px 1px 3px 1px rgba(60, 64, 67, 0.15);\n",
              "      fill: #174EA6;\n",
              "    }\n",
              "\n",
              "    [theme=dark] .colab-df-convert {\n",
              "      background-color: #3B4455;\n",
              "      fill: #D2E3FC;\n",
              "    }\n",
              "\n",
              "    [theme=dark] .colab-df-convert:hover {\n",
              "      background-color: #434B5C;\n",
              "      box-shadow: 0px 1px 3px 1px rgba(0, 0, 0, 0.15);\n",
              "      filter: drop-shadow(0px 1px 2px rgba(0, 0, 0, 0.3));\n",
              "      fill: #FFFFFF;\n",
              "    }\n",
              "  </style>\n",
              "\n",
              "      <script>\n",
              "        const buttonEl =\n",
              "          document.querySelector('#df-60ebb8c5-5bd6-4244-a9b1-a829cd61fea2 button.colab-df-convert');\n",
              "        buttonEl.style.display =\n",
              "          google.colab.kernel.accessAllowed ? 'block' : 'none';\n",
              "\n",
              "        async function convertToInteractive(key) {\n",
              "          const element = document.querySelector('#df-60ebb8c5-5bd6-4244-a9b1-a829cd61fea2');\n",
              "          const dataTable =\n",
              "            await google.colab.kernel.invokeFunction('convertToInteractive',\n",
              "                                                     [key], {});\n",
              "          if (!dataTable) return;\n",
              "\n",
              "          const docLinkHtml = 'Like what you see? Visit the ' +\n",
              "            '<a target=\"_blank\" href=https://colab.research.google.com/notebooks/data_table.ipynb>data table notebook</a>'\n",
              "            + ' to learn more about interactive tables.';\n",
              "          element.innerHTML = '';\n",
              "          dataTable['output_type'] = 'display_data';\n",
              "          await google.colab.output.renderOutput(dataTable, element);\n",
              "          const docLink = document.createElement('div');\n",
              "          docLink.innerHTML = docLinkHtml;\n",
              "          element.appendChild(docLink);\n",
              "        }\n",
              "      </script>\n",
              "    </div>\n",
              "  </div>\n",
              "  "
            ]
          },
          "metadata": {},
          "execution_count": 10
        }
      ],
      "source": [
        "table = content.find('table')\n",
        "td = table.find_all('td')\n",
        "postcode = []\n",
        "borough = []\n",
        "neighbourhood = []\n",
        "\n",
        "for i in range(0, len(td), 3):\n",
        "    postcode.append(td[i].text.strip())\n",
        "    borough.append(td[i+1].text.strip())\n",
        "    neighbourhood.append(td[i+2].text.strip())\n",
        "    \n",
        "       \n",
        "wiki_df = pd.DataFrame(data=[postcode, borough, neighbourhood]).transpose()\n",
        "wiki_df.columns = ['Postal Code', 'Borough', 'Neighborhood']\n",
        "\n",
        "\n",
        "wiki_df['Borough'].replace('Not assigned', np.nan, inplace=True)\n",
        "wiki_df.dropna(subset=['Borough'], inplace=True)\n",
        "\n",
        " \n",
        "wiki_df['Neighborhood'].replace('Not assigned', \"Queen's Park\", inplace=True)\n",
        "\n",
        "\n",
        "wiki_df = wiki_df.groupby(['Postal Code', 'Borough'])['Neighborhood'].apply(', '.join).reset_index()\n",
        "wiki_df.columns = ['Postal Code', 'Borough', 'Neighborhood']\n",
        "wiki_df.head(12)"
      ]
    },
    {
      "cell_type": "code",
      "execution_count": 11,
      "metadata": {
        "colab": {
          "base_uri": "https://localhost:8080/"
        },
        "id": "hthifkYgW0Sn",
        "outputId": "103d61cd-e579-4e3e-f29a-949aeaaea3ef"
      },
      "outputs": [
        {
          "output_type": "execute_result",
          "data": {
            "text/plain": [
              "(60, 3)"
            ]
          },
          "metadata": {},
          "execution_count": 11
        }
      ],
      "source": [
        "wiki_df.shape"
      ]
    }
  ],
  "metadata": {
    "kernelspec": {
      "display_name": "Python 3",
      "language": "python",
      "name": "python3"
    },
    "language_info": {
      "codemirror_mode": {
        "name": "ipython",
        "version": 3
      },
      "file_extension": ".py",
      "mimetype": "text/x-python",
      "name": "python",
      "nbconvert_exporter": "python",
      "pygments_lexer": "ipython3",
      "version": "3.8.5"
    },
    "colab": {
      "provenance": [],
      "include_colab_link": true
    }
  },
  "nbformat": 4,
  "nbformat_minor": 0
}